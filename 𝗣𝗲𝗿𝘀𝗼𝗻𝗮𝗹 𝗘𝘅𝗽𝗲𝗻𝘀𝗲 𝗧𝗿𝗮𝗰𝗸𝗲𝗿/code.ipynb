{
 "cells": [
  {
   "cell_type": "code",
   "execution_count": 22,
   "id": "6cd7f3d6",
   "metadata": {},
   "outputs": [
    {
     "name": "stdout",
     "output_type": "stream",
     "text": [
      "[{'catagory': 'Food', 'amount': 1200}, {'catagory': 'Transport', 'amount': 800}, {'catagory': 'Shopping', 'amount': 2000}, {'catagory': 'Rent', 'amount': 1500}]\n"
     ]
    }
   ],
   "source": [
    "expenses = [\n",
    "    {\"catagory\": \"Food\", \"amount\": 1200},\n",
    "    {\"catagory\": \"Transport\", \"amount\": 800},\n",
    "    {\"catagory\": \"Shopping\", \"amount\": 2000},\n",
    "    {\"catagory\": \"Rent\", \"amount\": 1500},\n",
    "]\n",
    "\n",
    "print(expenses)"
   ]
  },
  {
   "cell_type": "code",
   "execution_count": 23,
   "id": "c92fc260",
   "metadata": {},
   "outputs": [
    {
     "name": "stdout",
     "output_type": "stream",
     "text": [
      "মোট খরচ: 5500\n"
     ]
    }
   ],
   "source": [
    "total_expense = 0\n",
    "for item in expenses:\n",
    "    total_expense += item[\"amount\"]\n",
    "\n",
    "print(\"মোট খরচ:\",total_expense)"
   ]
  },
  {
   "cell_type": "code",
   "execution_count": 24,
   "id": "44a539e5",
   "metadata": {},
   "outputs": [
    {
     "name": "stdout",
     "output_type": "stream",
     "text": [
      "Catagory wise খরচ: {'Food': 1200, 'Transport': 800, 'Shopping': 2000, 'Rent': 1500}\n"
     ]
    }
   ],
   "source": [
    "catagory_wise = {}\n",
    "for item in expenses:\n",
    "    catagory = item[\"catagory\"]\n",
    "    amount = item[\"amount\"]\n",
    "\n",
    "    if catagory in catagory_wise:\n",
    "        catagory_wise[catagory] += amount\n",
    "    else:\n",
    "        catagory_wise[catagory] = amount\n",
    "\n",
    "print(\"Catagory wise খরচ:\", catagory_wise)"
   ]
  },
  {
   "cell_type": "code",
   "execution_count": 25,
   "id": "5c636ff5",
   "metadata": {},
   "outputs": [
    {
     "name": "stdout",
     "output_type": "stream",
     "text": [
      "তুমি সেভ করতে পেরেছো: 1500 টাকা\n"
     ]
    }
   ],
   "source": [
    "income = 7000\n",
    "savings = income - total_expense\n",
    "\n",
    "if savings > 0:\n",
    "    print(\"তুমি সেভ করতে পেরেছো:\", savings, \"টাকা\")\n",
    "elif savings == 0:\n",
    "    print(\"একেবারে ব্রেক ইভেন! সেভ হয়নি, লসও হয়নি।\")\n",
    "else:\n",
    "    print(\"তুমি লসে গেছো:\", abs(savings), \"টাকা\")"
   ]
  },
  {
   "cell_type": "code",
   "execution_count": 26,
   "id": "e0a00644",
   "metadata": {},
   "outputs": [
    {
     "name": "stdout",
     "output_type": "stream",
     "text": [
      "সবচেয়ে বেশি খরচ হয়েছে: Shopping - 2000 টাকা\n"
     ]
    }
   ],
   "source": [
    "highest_catagory = None\n",
    "highest_amount = 0\n",
    "\n",
    "for catagory, amount in catagory_wise.items():\n",
    "    if amount > highest_amount:\n",
    "        highest_amount = amount\n",
    "        highest_catagory = catagory\n",
    "\n",
    "print(\"সবচেয়ে বেশি খরচ হয়েছে:\", highest_catagory, \"-\", highest_amount, \"টাকা\")"
   ]
  }
 ],
 "metadata": {
  "kernelspec": {
   "display_name": "base",
   "language": "python",
   "name": "python3"
  },
  "language_info": {
   "codemirror_mode": {
    "name": "ipython",
    "version": 3
   },
   "file_extension": ".py",
   "mimetype": "text/x-python",
   "name": "python",
   "nbconvert_exporter": "python",
   "pygments_lexer": "ipython3",
   "version": "3.13.5"
  }
 },
 "nbformat": 4,
 "nbformat_minor": 5
}
