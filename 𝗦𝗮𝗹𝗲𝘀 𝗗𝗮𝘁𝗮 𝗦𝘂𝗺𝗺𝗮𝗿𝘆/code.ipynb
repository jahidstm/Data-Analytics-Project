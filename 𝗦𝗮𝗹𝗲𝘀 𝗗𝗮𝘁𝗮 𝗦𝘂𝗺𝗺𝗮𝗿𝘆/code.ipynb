{
 "cells": [
  {
   "cell_type": "markdown",
   "id": "30cea9db",
   "metadata": {},
   "source": [
    "Storing Data 🏬"
   ]
  },
  {
   "cell_type": "code",
   "execution_count": 6,
   "id": "b3f22a3e",
   "metadata": {},
   "outputs": [],
   "source": [
    "sales = [\n",
    "    {\"day\": \"Monday\", \"Product\": \"Shirt\", \"amount\": 1200},\n",
    "    {\"day\": \"Monday\", \"Product\": \"Pant\", \"amount\": 800},\n",
    "    {\"day\": \"Tuesday\", \"Product\": \"Shirt\", \"amount\": 1500},\n",
    "    {\"day\": \"Tuesday\", \"Product\": \"Shoe\", \"amount\": 2000},\n",
    "    {\"day\": \"Wednesday\", \"Product\": \"Pant\", \"amount\": 1000},\n",
    "    {\"day\": \"Wednesday\", \"Product\": \"Shoe\", \"amount\": 2500},\n",
    "]"
   ]
  },
  {
   "cell_type": "markdown",
   "id": "d54a9595",
   "metadata": {},
   "source": [
    "Figure out Total Sales 💰"
   ]
  },
  {
   "cell_type": "markdown",
   "id": "d25e0514",
   "metadata": {},
   "source": [
    "Which Product got most sales till now? 🚀"
   ]
  },
  {
   "cell_type": "code",
   "execution_count": 7,
   "id": "4ae0ddeb",
   "metadata": {},
   "outputs": [
    {
     "name": "stdout",
     "output_type": "stream",
     "text": [
      "Total Sales: 9000\n"
     ]
    }
   ],
   "source": [
    "total_sales = 0\n",
    "\n",
    "for record in sales:\n",
    "    total_sales += record[\"amount\"]\n",
    "\n",
    "print(\"Total Sales:\", total_sales)"
   ]
  },
  {
   "cell_type": "markdown",
   "id": "41b05163",
   "metadata": {},
   "source": [
    "Figure Out Average Sales 🔥"
   ]
  },
  {
   "cell_type": "code",
   "execution_count": 8,
   "id": "1a0dc37c",
   "metadata": {},
   "outputs": [
    {
     "name": "stdout",
     "output_type": "stream",
     "text": [
      "Average Sales per record: 1500.0\n"
     ]
    }
   ],
   "source": [
    "average_sales = total_sales / len(sales)\n",
    "\n",
    "print(\"Average Sales per record:\", average_sales)"
   ]
  },
  {
   "cell_type": "markdown",
   "id": "019e40c8",
   "metadata": {},
   "source": [
    "The Best Sale Day 🗓️"
   ]
  },
  {
   "cell_type": "code",
   "execution_count": 9,
   "id": "31a324d1",
   "metadata": {},
   "outputs": [
    {
     "name": "stdout",
     "output_type": "stream",
     "text": [
      "Day Wise Sales: {'Monday': 2000, 'Tuesday': 3500, 'Wednesday': 3500}\n",
      "Highest Sales Day: Tuesday\n"
     ]
    }
   ],
   "source": [
    "day_sales = {}\n",
    "\n",
    "for record in sales:\n",
    "    day = record[\"day\"]\n",
    "    amount = record[\"amount\"]\n",
    "\n",
    "    if day in day_sales:\n",
    "        day_sales[day] += amount\n",
    "    else:\n",
    "        day_sales[day] = amount\n",
    "\n",
    "print(\"Day Wise Sales:\", day_sales)\n",
    "print(\"Highest Sales Day:\", max(day_sales, key=day_sales.get))"
   ]
  }
 ],
 "metadata": {
  "kernelspec": {
   "display_name": "base",
   "language": "python",
   "name": "python3"
  },
  "language_info": {
   "codemirror_mode": {
    "name": "ipython",
    "version": 3
   },
   "file_extension": ".py",
   "mimetype": "text/x-python",
   "name": "python",
   "nbconvert_exporter": "python",
   "pygments_lexer": "ipython3",
   "version": "3.13.5"
  }
 },
 "nbformat": 4,
 "nbformat_minor": 5
}
