{
 "cells": [
  {
   "cell_type": "markdown",
   "id": "2e7f49cc",
   "metadata": {},
   "source": [
    "Cell -1 Code :"
   ]
  },
  {
   "cell_type": "code",
   "execution_count": 62,
   "id": "0ff817a9",
   "metadata": {},
   "outputs": [
    {
     "name": "stdout",
     "output_type": "stream",
     "text": [
      "𝑯𝒆𝒍𝒍𝒐 𝑺𝒕𝒖𝒅𝒆𝒏𝒕! 👋 𝑺𝒖𝒑𝒆𝒓𝒎𝒂𝒏 𝑺𝒆𝒔𝒔𝒊𝒐𝒏 𝑷𝒓𝒐𝒋𝒆𝒄𝒕 1 শুরু হলো\n"
     ]
    }
   ],
   "source": [
    "𝒑𝒓𝒊𝒏𝒕(\"𝑯𝒆𝒍𝒍𝒐 𝑺𝒕𝒖𝒅𝒆𝒏𝒕! 👋 𝑺𝒖𝒑𝒆𝒓𝒎𝒂𝒏 𝑺𝒆𝒔𝒔𝒊𝒐𝒏 𝑷𝒓𝒐𝒋𝒆𝒄𝒕 1 শুরু হলো\")"
   ]
  },
  {
   "cell_type": "markdown",
   "id": "c9b6587f",
   "metadata": {},
   "source": [
    "Cell -2 Code :"
   ]
  },
  {
   "cell_type": "code",
   "execution_count": 63,
   "id": "46614a58",
   "metadata": {},
   "outputs": [
    {
     "name": "stdout",
     "output_type": "stream",
     "text": [
      "{'name': 'Jahid', 'Math': 82, 'English': 70, 'Science': 95}\n",
      "Jahid\n",
      "95\n"
     ]
    }
   ],
   "source": [
    "student = {\n",
    "    \"name\": \"Jahid\",\n",
    "    \"Math\": 82,\n",
    "    \"English\": 70,\n",
    "    \"Science\": 95\n",
    "}\n",
    "\n",
    "print(student)\n",
    "print(student[\"name\"])\n",
    "print(student[\"Science\"])"
   ]
  },
  {
   "cell_type": "markdown",
   "id": "b0309d6c",
   "metadata": {},
   "source": [
    "Cell 3 Code :"
   ]
  },
  {
   "cell_type": "code",
   "execution_count": 64,
   "id": "e8eba427",
   "metadata": {},
   "outputs": [
    {
     "name": "stdout",
     "output_type": "stream",
     "text": [
      "মোট স্টুডেন্ট: 3\n",
      "[{'name': 'Jahid', 'Math': 82, 'English': 70, 'Science': 95}, {'name': 'Fardin', 'Math': 90, 'English': 85, 'Science': 74}, {'name': 'Meem', 'Math': 72, 'English': 81, 'Science': 88}]\n"
     ]
    }
   ],
   "source": [
    "students = [\n",
    "    {\"name\": \"Jahid\", \"Math\": 82, \"English\": 70, \"Science\": 95},\n",
    "    {\"name\": \"Fardin\", \"Math\": 90, \"English\": 85, \"Science\": 74},\n",
    "    {\"name\": \"Meem\", \"Math\": 72, \"English\": 81, \"Science\": 88}\n",
    "]\n",
    "\n",
    "𝒑𝒓𝒊𝒏𝒕(\"মোট স্টুডেন্ট:\", 𝒍𝒆𝒏(𝒔𝒕𝒖𝒅𝒆𝒏𝒕𝒔))\n",
    "𝒑𝒓𝒊𝒏𝒕(𝒔𝒕𝒖𝒅𝒆𝒏𝒕𝒔)"
   ]
  },
  {
   "cell_type": "markdown",
   "id": "f5043ae9",
   "metadata": {},
   "source": [
    "Cell 4 Code :"
   ]
  },
  {
   "cell_type": "code",
   "execution_count": 65,
   "id": "642435f1",
   "metadata": {},
   "outputs": [
    {
     "name": "stdout",
     "output_type": "stream",
     "text": [
      "Jahid → total: 247\n",
      "Fardin → total: 249\n",
      "Meem → total: 241\n"
     ]
    }
   ],
   "source": [
    "for s in students:\n",
    "    s[\"Total\"] = s[\"Math\"] + s[\"English\"] + s[\"Science\"]\n",
    "\n",
    "for s in students:\n",
    "    print(s[\"name\"], \"→ total:\", s[\"Total\"])"
   ]
  },
  {
   "cell_type": "markdown",
   "id": "486bce38",
   "metadata": {},
   "source": [
    "Cell 5 Code :"
   ]
  },
  {
   "cell_type": "code",
   "execution_count": 66,
   "id": "9cb5b9d8",
   "metadata": {},
   "outputs": [
    {
     "name": "stdout",
     "output_type": "stream",
     "text": [
      "Topper: Fardin with 249 marks\n"
     ]
    }
   ],
   "source": [
    "highest = -1\n",
    "topper_name = \"\"\n",
    "\n",
    "for s in students:\n",
    "    if(s[\"Total\"] > highest):\n",
    "        highest = s[\"Total\"]\n",
    "        topper_name = s[\"name\"]\n",
    "\n",
    "print(\"Topper:\", topper_name, \"with\", highest, \"marks\")"
   ]
  },
  {
   "cell_type": "markdown",
   "id": "b9795981",
   "metadata": {},
   "source": [
    "Cell 6 Code :"
   ]
  },
  {
   "cell_type": "code",
   "execution_count": 67,
   "id": "03961ba3",
   "metadata": {},
   "outputs": [
    {
     "name": "stdout",
     "output_type": "stream",
     "text": [
      "-----Report Card-----\n",
      "Name: Jahid\n",
      "Math: 82\n",
      "English: 70\n",
      "Science: 95\n",
      "Total: 247\n",
      "-------------------\n",
      "\n",
      "-----Report Card-----\n",
      "Name: Fardin\n",
      "Math: 90\n",
      "English: 85\n",
      "Science: 74\n",
      "Total: 249\n",
      "-------------------\n",
      "\n",
      "-----Report Card-----\n",
      "Name: Meem\n",
      "Math: 72\n",
      "English: 81\n",
      "Science: 88\n",
      "Total: 241\n",
      "-------------------\n",
      "\n",
      "Overall topper → Fardin with 249 marks\n"
     ]
    }
   ],
   "source": [
    "for s in students:\n",
    "    print(\"-----Report Card-----\")\n",
    "    print(\"Name:\", s[\"name\"])\n",
    "    print(\"Math:\", s[\"Math\"])\n",
    "    print(\"English:\", s[\"English\"])\n",
    "    print(\"Science:\", s[\"Science\"])\n",
    "    print(\"Total:\", s[\"Total\"])\n",
    "    print(\"-------------------\\n\")\n",
    "\n",
    "print(\"Overall topper →\", topper_name, \"with\", highest, \"marks\")"
   ]
  }
 ],
 "metadata": {
  "kernelspec": {
   "display_name": "base",
   "language": "python",
   "name": "python3"
  },
  "language_info": {
   "codemirror_mode": {
    "name": "ipython",
    "version": 3
   },
   "file_extension": ".py",
   "mimetype": "text/x-python",
   "name": "python",
   "nbconvert_exporter": "python",
   "pygments_lexer": "ipython3",
   "version": "3.13.5"
  }
 },
 "nbformat": 4,
 "nbformat_minor": 5
}
